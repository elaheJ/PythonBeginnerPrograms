{
  "nbformat": 4,
  "nbformat_minor": 0,
  "metadata": {
    "colab": {
      "provenance": [],
      "authorship_tag": "ABX9TyO915uLwvhaK3sg5bgicyNi",
      "include_colab_link": true
    },
    "kernelspec": {
      "name": "python3",
      "display_name": "Python 3"
    },
    "language_info": {
      "name": "python"
    }
  },
  "cells": [
    {
      "cell_type": "markdown",
      "metadata": {
        "id": "view-in-github",
        "colab_type": "text"
      },
      "source": [
        "<a href=\"https://colab.research.google.com/github/elaheJ/PythonBeginnerPrograms/blob/main/ZooNumpyIndexing_zeroBased%26Negative.ipynb\" target=\"_parent\"><img src=\"https://colab.research.google.com/assets/colab-badge.svg\" alt=\"Open In Colab\"/></a>"
      ]
    },
    {
      "cell_type": "code",
      "execution_count": null,
      "metadata": {
        "id": "Mh7VayIbWMrA"
      },
      "outputs": [],
      "source": [
        "import numpy as np\n",
        "zoo = np.array([['🐶', '🐱', '🐭'],\n",
        "                ['🐰', '🦊', '🦝'],\n",
        "                ['🐻', '🐼', '🐨'],\n",
        "                ['🐯', '🦁', '🐮']])\n"
      ]
    },
    {
      "cell_type": "code",
      "source": [
        "#where is the dog?\n",
        "print(zoo[0,0])\n",
        "print(zoo[-4,-3])"
      ],
      "metadata": {
        "colab": {
          "base_uri": "https://localhost:8080/"
        },
        "id": "GP3E4cjEWoo4",
        "outputId": "fe6e2bfb-518e-439f-d9bd-7d89d630de50"
      },
      "execution_count": null,
      "outputs": [
        {
          "output_type": "stream",
          "name": "stdout",
          "text": [
            "🐶\n",
            "🐶\n"
          ]
        }
      ]
    },
    {
      "cell_type": "code",
      "source": [
        "# find & print the racoon\n",
        "print(zoo[1,2])\n",
        "print(zoo[-3,-1])"
      ],
      "metadata": {
        "colab": {
          "base_uri": "https://localhost:8080/"
        },
        "id": "tl-IcNmxg58i",
        "outputId": "c02502d6-3971-4b11-b979-6c89c3aaec5f"
      },
      "execution_count": null,
      "outputs": [
        {
          "output_type": "stream",
          "name": "stdout",
          "text": [
            "🦝\n",
            "🦝\n"
          ]
        }
      ]
    },
    {
      "cell_type": "code",
      "source": [
        "# find & print the lion\n",
        "print(zoo[3,0])\n",
        "print(zoo[-1,-3])"
      ],
      "metadata": {
        "colab": {
          "base_uri": "https://localhost:8080/"
        },
        "id": "5OKqFO0ihGHI",
        "outputId": "c80945aa-4042-4e07-e3ef-c68e7b07cafc"
      },
      "execution_count": null,
      "outputs": [
        {
          "output_type": "stream",
          "name": "stdout",
          "text": [
            "🐯\n",
            "🐯\n"
          ]
        }
      ]
    },
    {
      "cell_type": "code",
      "source": [
        "# find & print the cow\n",
        "print(zoo[3,2])\n",
        "print(zoo[-1,-1])"
      ],
      "metadata": {
        "colab": {
          "base_uri": "https://localhost:8080/"
        },
        "id": "w-NaR0bPhJUn",
        "outputId": "9f4675df-214e-40ea-db48-7626ba8ae352"
      },
      "execution_count": null,
      "outputs": [
        {
          "output_type": "stream",
          "name": "stdout",
          "text": [
            "🐮\n",
            "🐮\n"
          ]
        }
      ]
    },
    {
      "cell_type": "code",
      "source": [
        "# find & print these: the bunny, the fox, and the racoon\n",
        "print(zoo[1,])\n",
        "print(zoo[-3,])"
      ],
      "metadata": {
        "colab": {
          "base_uri": "https://localhost:8080/"
        },
        "id": "Tf4AfTa5hMYN",
        "outputId": "7f293d2d-551a-4a8b-8e2f-980cde9eb7e0"
      },
      "execution_count": null,
      "outputs": [
        {
          "output_type": "stream",
          "name": "stdout",
          "text": [
            "['🐰' '🦊' '🦝']\n",
            "['🐰' '🦊' '🦝']\n"
          ]
        }
      ]
    },
    {
      "cell_type": "code",
      "source": [
        "# find and print fox and racoon\n",
        "print(zoo[1,1:])\n",
        "print(zoo[-3,-2:])\n",
        "print(zoo[1,1:3])\n",
        "print(zoo[-3,-2:3])"
      ],
      "metadata": {
        "colab": {
          "base_uri": "https://localhost:8080/"
        },
        "id": "fA8nlR8Dhm87",
        "outputId": "7f96fcd5-66f9-4446-a986-e51047786280"
      },
      "execution_count": null,
      "outputs": [
        {
          "output_type": "stream",
          "name": "stdout",
          "text": [
            "['🦊' '🦝']\n",
            "['🦊' '🦝']\n",
            "['🦊' '🦝']\n",
            "['🦊' '🦝']\n"
          ]
        }
      ]
    },
    {
      "cell_type": "code",
      "source": [
        "# find & print these: the dog,  bunny, bear,  tiger\n",
        "print(zoo[:,0])\n",
        "print(zoo[:,-3])\n"
      ],
      "metadata": {
        "colab": {
          "base_uri": "https://localhost:8080/"
        },
        "id": "x4_d4hHVhOt6",
        "outputId": "3b05016e-8412-47a4-f7b6-88a38aa41ee1"
      },
      "execution_count": null,
      "outputs": [
        {
          "output_type": "stream",
          "name": "stdout",
          "text": [
            "['🐶' '🐰' '🐻' '🐯']\n",
            "['🐶' '🐰' '🐻' '🐯']\n"
          ]
        }
      ]
    },
    {
      "cell_type": "code",
      "source": [
        "# find & print these: the cat, fox, panda, lion\n",
        "print(zoo[:,1])\n",
        "print(zoo[:,-2])"
      ],
      "metadata": {
        "colab": {
          "base_uri": "https://localhost:8080/"
        },
        "id": "YF19efZdhPeo",
        "outputId": "9193f211-04d6-4de7-b650-3d1b8365d10b"
      },
      "execution_count": null,
      "outputs": [
        {
          "output_type": "stream",
          "name": "stdout",
          "text": [
            "['🐱' '🦊' '🐼' '🦁']\n",
            "['🐱' '🦊' '🐼' '🦁']\n"
          ]
        }
      ]
    },
    {
      "cell_type": "code",
      "source": [
        "# find & print these: the cat and the fox\n",
        "print(zoo[0:2,1])\n",
        "print(zoo[0:2,-2])"
      ],
      "metadata": {
        "colab": {
          "base_uri": "https://localhost:8080/"
        },
        "id": "By4sfhGVufgk",
        "outputId": "aaf750aa-96ac-45f6-bc62-1272d11e14e8"
      },
      "execution_count": 20,
      "outputs": [
        {
          "output_type": "stream",
          "name": "stdout",
          "text": [
            "['🐱' '🦊']\n",
            "['🐱' '🦊']\n"
          ]
        }
      ]
    },
    {
      "cell_type": "code",
      "source": [
        "# find & print these: the fox and the panda\n",
        "print(zoo[1:3,1])\n",
        "print(zoo[1:3,-2])"
      ],
      "metadata": {
        "colab": {
          "base_uri": "https://localhost:8080/"
        },
        "id": "_40rH9EGukYs",
        "outputId": "78458a58-4fd3-40f8-a862-4a771e851669"
      },
      "execution_count": 21,
      "outputs": [
        {
          "output_type": "stream",
          "name": "stdout",
          "text": [
            "['🦊' '🐼']\n",
            "['🦊' '🐼']\n"
          ]
        }
      ]
    }
  ]
}