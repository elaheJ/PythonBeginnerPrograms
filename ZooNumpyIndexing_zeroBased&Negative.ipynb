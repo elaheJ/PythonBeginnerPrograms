{
  "nbformat": 4,
  "nbformat_minor": 0,
  "metadata": {
    "colab": {
      "provenance": [],
      "authorship_tag": "ABX9TyNp6X04/3u7mUsUAOy9Gva5",
      "include_colab_link": true
    },
    "kernelspec": {
      "name": "python3",
      "display_name": "Python 3"
    },
    "language_info": {
      "name": "python"
    }
  },
  "cells": [
    {
      "cell_type": "markdown",
      "metadata": {
        "id": "view-in-github",
        "colab_type": "text"
      },
      "source": [
        "<a href=\"https://colab.research.google.com/github/elaheJ/PythonBeginnerPrograms/blob/main/ZooNumpyIndexing_zeroBased%26Negative.ipynb\" target=\"_parent\"><img src=\"https://colab.research.google.com/assets/colab-badge.svg\" alt=\"Open In Colab\"/></a>"
      ]
    },
    {
      "cell_type": "code",
      "execution_count": 2,
      "metadata": {
        "id": "Mh7VayIbWMrA"
      },
      "outputs": [],
      "source": [
        "import numpy as np\n",
        "zoo = np.array([['🐶', '🐱', '🐭'],\n",
        "                ['🐰', '🦊', '🦝'],\n",
        "                ['🐻', '🐼', '🐨'],\n",
        "                ['🐯', '🦁', '🐮']])\n"
      ]
    },
    {
      "cell_type": "code",
      "source": [
        "#where is the dog?\n",
        "print(zoo[0,0])\n",
        "print(zoo[-4,-3])"
      ],
      "metadata": {
        "colab": {
          "base_uri": "https://localhost:8080/"
        },
        "id": "GP3E4cjEWoo4",
        "outputId": "fe6e2bfb-518e-439f-d9bd-7d89d630de50"
      },
      "execution_count": 3,
      "outputs": [
        {
          "output_type": "stream",
          "name": "stdout",
          "text": [
            "🐶\n",
            "🐶\n"
          ]
        }
      ]
    }
  ]
}