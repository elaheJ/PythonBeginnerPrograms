{
  "nbformat": 4,
  "nbformat_minor": 0,
  "metadata": {
    "colab": {
      "name": "ElaheJ_OWM.ipynb",
      "provenance": [],
      "collapsed_sections": [],
      "authorship_tag": "ABX9TyPIcnvFzuDhxOzA+d8MrS46",
      "include_colab_link": true
    },
    "kernelspec": {
      "name": "python3",
      "display_name": "Python 3"
    },
    "language_info": {
      "name": "python"
    }
  },
  "cells": [
    {
      "cell_type": "markdown",
      "metadata": {
        "id": "view-in-github",
        "colab_type": "text"
      },
      "source": [
        "<a href=\"https://colab.research.google.com/github/elaheJ/PythonBeginnerPrograms/blob/main/ElaheJ_OWM.ipynb\" target=\"_parent\"><img src=\"https://colab.research.google.com/assets/colab-badge.svg\" alt=\"Open In Colab\"/></a>"
      ]
    },
    {
      "cell_type": "code",
      "source": [
        "!pip install pyowm"
      ],
      "metadata": {
        "colab": {
          "base_uri": "https://localhost:8080/"
        },
        "id": "Sm4X0Sx8w3tR",
        "outputId": "f464b15b-a699-4a60-96e3-ae82f055a6fe"
      },
      "execution_count": 5,
      "outputs": [
        {
          "output_type": "stream",
          "name": "stdout",
          "text": [
            "Looking in indexes: https://pypi.org/simple, https://us-python.pkg.dev/colab-wheels/public/simple/\n",
            "Collecting pyowm\n",
            "  Downloading pyowm-3.3.0-py3-none-any.whl (4.5 MB)\n",
            "\u001b[K     |████████████████████████████████| 4.5 MB 5.0 MB/s \n",
            "\u001b[?25hCollecting geojson<3,>=2.3.0\n",
            "  Downloading geojson-2.5.0-py2.py3-none-any.whl (14 kB)\n",
            "Requirement already satisfied: PySocks<2,>=1.7.1 in /usr/local/lib/python3.7/dist-packages (from pyowm) (1.7.1)\n",
            "Requirement already satisfied: requests<3,>=2.20.0 in /usr/local/lib/python3.7/dist-packages (from pyowm) (2.23.0)\n",
            "Requirement already satisfied: urllib3!=1.25.0,!=1.25.1,<1.26,>=1.21.1 in /usr/local/lib/python3.7/dist-packages (from requests<3,>=2.20.0->pyowm) (1.24.3)\n",
            "Requirement already satisfied: certifi>=2017.4.17 in /usr/local/lib/python3.7/dist-packages (from requests<3,>=2.20.0->pyowm) (2022.6.15)\n",
            "Requirement already satisfied: chardet<4,>=3.0.2 in /usr/local/lib/python3.7/dist-packages (from requests<3,>=2.20.0->pyowm) (3.0.4)\n",
            "Requirement already satisfied: idna<3,>=2.5 in /usr/local/lib/python3.7/dist-packages (from requests<3,>=2.20.0->pyowm) (2.10)\n",
            "Installing collected packages: geojson, pyowm\n",
            "Successfully installed geojson-2.5.0 pyowm-3.3.0\n"
          ]
        }
      ]
    },
    {
      "cell_type": "code",
      "execution_count": 20,
      "metadata": {
        "colab": {
          "base_uri": "https://localhost:8080/"
        },
        "id": "iJUm26hDwj9C",
        "outputId": "2c9c17d5-3135-4571-9f59-7a7c471a0ea2"
      },
      "outputs": [
        {
          "output_type": "stream",
          "name": "stdout",
          "text": [
            "what city would you like to teleport to: paris\n",
            "what country is the city in: france\n",
            "{'temp': 76.69, 'temp_max': 79.57, 'temp_min': 70.86, 'feels_like': 76.6, 'temp_kf': None}\n",
            "76.6\n",
            "you can wear your summer outfit if you want to go on a walk in paris, france\n"
          ]
        }
      ],
      "source": [
        "\n",
        "from pyowm.owm import OWM\n",
        "\n",
        "myKey='977fbc6edc8416135c8ad66c8fec3bd9'\n",
        "owm= OWM(myKey)\n",
        "wmg=owm.weather_manager()\n",
        "               \n",
        "city= input('what city would you like to teleport to: ')   \n",
        "country= input('what country is the city in: ')   \n",
        "citycountry=city+ ', '+country   \n",
        "\n",
        "observation=wmg.weather_at_place(citycountry)\n",
        "weather=observation.weather\n",
        "\n",
        "temperature=weather.temperature('fahrenheit')\n",
        "print(temperature)\n",
        "\n",
        "feellike=temperature.get ('feels_like')\n",
        "print(feellike)\n",
        "                \n",
        "if feellike < 30:\n",
        "    print ('you need a winter jacket if you want to go on a walk in', citycountry)\n",
        "elif feellike <50:\n",
        "    print ('you need a light jacket if you want to go on a walk in', citycountry)\n",
        "elif feellike <70:\n",
        "    print('you may want to dress in layers if want to go on a walk in', citycountry)\n",
        "else:\n",
        "   print('you can wear your summer outfit if you want to go on a walk in', citycountry )\n",
        "    \n",
        "     "
      ]
    }
  ]
}